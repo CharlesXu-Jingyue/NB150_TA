{
  "cells": [
    {
      "cell_type": "markdown",
      "metadata": {
        "id": "C2UyzVVcCmr8"
      },
      "source": [
        "# NEURON Demonstration of the Veto Mechanism\n",
        "\n",
        "By Charles Xu @ Caltech, 2025\n",
        "\n",
        "For NB 150\n",
        "\n",
        "## Set up the environment"
      ]
    },
    {
      "cell_type": "markdown",
      "metadata": {
        "id": "BAa_-sfbCmr9"
      },
      "source": []
    }
  ],
  "metadata": {
    "language_info": {
      "name": "python"
    },
    "colab": {
      "provenance": [],
      "toc_visible": true
    },
    "kernelspec": {
      "name": "python3",
      "display_name": "Python 3"
    }
  },
  "nbformat": 4,
  "nbformat_minor": 0
}